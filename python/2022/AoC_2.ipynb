{
 "cells": [
  {
   "cell_type": "code",
   "execution_count": 110,
   "metadata": {},
   "outputs": [],
   "source": [
    "from enum import Enum\n",
    "\n",
    "WIN_POINTS = 6\n",
    "DRAW_POINTS = 3\n",
    "LOSE_POINTS = 0\n",
    "\n",
    "class rps(Enum):\n",
    "    ROCK = 1\n",
    "    PAPER = 2\n",
    "    SCISSORS = 3\n",
    "\n",
    "# format the data as [[A, X], [B, Y], ...]\n",
    "with open('day2a_data', 'r') as f:\n",
    "    strategy = [game.split(\" \") for game in f.read().strip().split(\"\\n\")]"
   ]
  },
  {
   "cell_type": "code",
   "execution_count": 111,
   "metadata": {},
   "outputs": [
    {
     "data": {
      "text/plain": [
       "10994"
      ]
     },
     "execution_count": 111,
     "metadata": {},
     "output_type": "execute_result"
    }
   ],
   "source": [
    "mappings = {\n",
    "            \"A\": rps.ROCK,\n",
    "            \"B\": rps.PAPER,\n",
    "            \"C\": rps.SCISSORS,\n",
    "            \"X\": rps.ROCK,\n",
    "            \"Y\": rps.PAPER,\n",
    "            \"Z\": rps.SCISSORS\n",
    "            }\n",
    "rounds = [(mappings[a], mappings[b]) for a, b in strategy]\n",
    "points = 0\n",
    "for opponent, me in rounds:\n",
    "    points += me.value\n",
    "    match opponent, me:\n",
    "        case [rps.ROCK, rps.PAPER] | [rps.PAPER, rps.SCISSORS] | [rps.SCISSORS, rps.ROCK]:\n",
    "            points += WIN_POINTS\n",
    "        case [rps.ROCK, rps.ROCK] | [rps.PAPER, rps.PAPER] | [rps.SCISSORS, rps.SCISSORS]:\n",
    "            points += DRAW_POINTS\n",
    "        case _:\n",
    "            points += LOSE_POINTS\n",
    "points"
   ]
  },
  {
   "cell_type": "code",
   "execution_count": 112,
   "metadata": {},
   "outputs": [
    {
     "data": {
      "text/plain": [
       "12526"
      ]
     },
     "execution_count": 112,
     "metadata": {},
     "output_type": "execute_result"
    }
   ],
   "source": [
    "def win(rps):\n",
    "    mapping = {\n",
    "        rps.PAPER: rps.SCISSORS,\n",
    "        rps.ROCK: rps.PAPER,\n",
    "        rps.SCISSORS: rps.ROCK\n",
    "    }\n",
    "    return mapping[rps].value + WIN_POINTS\n",
    "\n",
    "def draw(rps):\n",
    "    return rps.value + DRAW_POINTS\n",
    "\n",
    "def lose(rps):\n",
    "    mapping = {\n",
    "        rps.PAPER: rps.ROCK,\n",
    "        rps.ROCK: rps.SCISSORS,\n",
    "        rps.SCISSORS: rps.PAPER\n",
    "    }\n",
    "    return mapping[rps].value + LOSE_POINTS\n",
    "\n",
    "mappings2 = {\n",
    "            \"A\": rps.ROCK,\n",
    "            \"B\": rps.PAPER,\n",
    "            \"C\": rps.SCISSORS,\n",
    "            \"X\": lose,\n",
    "            \"Y\": draw,\n",
    "            \"Z\": win\n",
    "            }\n",
    "            \n",
    "rounds = [(mappings2[a], mappings2[b]) for a, b in strategy]\n",
    "sum(result(opponent) for opponent, result in rounds)"
   ]
  }
 ],
 "metadata": {
  "kernelspec": {
   "display_name": "Python 3.11.0 64-bit ('3.11.0')",
   "language": "python",
   "name": "python3"
  },
  "language_info": {
   "codemirror_mode": {
    "name": "ipython",
    "version": 3
   },
   "file_extension": ".py",
   "mimetype": "text/x-python",
   "name": "python",
   "nbconvert_exporter": "python",
   "pygments_lexer": "ipython3",
   "version": "3.11.0"
  },
  "orig_nbformat": 4,
  "vscode": {
   "interpreter": {
    "hash": "3434ccafb52358849ff2ebf322ef4dad532b1af8a681ae7e07b02c2475e548f3"
   }
  }
 },
 "nbformat": 4,
 "nbformat_minor": 2
}
