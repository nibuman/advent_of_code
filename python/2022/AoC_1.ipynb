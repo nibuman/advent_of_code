{
 "cells": [
  {
   "cell_type": "code",
   "execution_count": 28,
   "metadata": {},
   "outputs": [],
   "source": [
    "elves = open('day1a_data', 'r').read()[:-1].split('\\n\\n')\n"
   ]
  },
  {
   "cell_type": "code",
   "execution_count": 30,
   "metadata": {},
   "outputs": [
    {
     "data": {
      "text/plain": [
       "70720"
      ]
     },
     "execution_count": 30,
     "metadata": {},
     "output_type": "execute_result"
    }
   ],
   "source": [
    "totals = []\n",
    "for elf in elves:\n",
    "    calories = elf.split('\\n')\n",
    "    totals.append(sum(int(cal) for cal in calories))\n",
    "max(totals)"
   ]
  },
  {
   "cell_type": "code",
   "execution_count": 31,
   "metadata": {},
   "outputs": [
    {
     "ename": "TypeError",
     "evalue": "'int' object is not iterable",
     "output_type": "error",
     "traceback": [
      "\u001b[0;31m---------------------------------------------------------------------------\u001b[0m",
      "\u001b[0;31mTypeError\u001b[0m                                 Traceback (most recent call last)",
      "Cell \u001b[0;32mIn[31], line 1\u001b[0m\n\u001b[0;32m----> 1\u001b[0m \u001b[39mmax\u001b[39;49m(\u001b[39msum\u001b[39;49m(\u001b[39mint\u001b[39;49m(cal) \u001b[39mfor\u001b[39;49;00m elf \u001b[39min\u001b[39;49;00m elves \u001b[39mfor\u001b[39;49;00m cal \u001b[39min\u001b[39;49;00m elf\u001b[39m.\u001b[39;49msplit(\u001b[39m'\u001b[39;49m\u001b[39m\\n\u001b[39;49;00m\u001b[39m'\u001b[39;49m)))\n",
      "\u001b[0;31mTypeError\u001b[0m: 'int' object is not iterable"
     ]
    }
   ],
   "source": [
    "max(sum(int(cal) for elf in elves for cal in elf.split('\\n')))"
   ]
  },
  {
   "cell_type": "code",
   "execution_count": 29,
   "metadata": {},
   "outputs": [
    {
     "data": {
      "text/plain": [
       "207148"
      ]
     },
     "execution_count": 29,
     "metadata": {},
     "output_type": "execute_result"
    }
   ],
   "source": [
    "totals = []\n",
    "for elf in elves:\n",
    "    calories = elf.split('\\n')\n",
    "    totals.append(sum(int(cal) for cal in calories))\n",
    "    if len(totals) > 3:\n",
    "        lowest = min(totals)\n",
    "        totals.remove(lowest)\n",
    "sum(totals)"
   ]
  }
 ],
 "metadata": {
  "kernelspec": {
   "display_name": "Python 3.11.0 64-bit ('3.11.0')",
   "language": "python",
   "name": "python3"
  },
  "language_info": {
   "codemirror_mode": {
    "name": "ipython",
    "version": 3
   },
   "file_extension": ".py",
   "mimetype": "text/x-python",
   "name": "python",
   "nbconvert_exporter": "python",
   "pygments_lexer": "ipython3",
   "version": "3.11.0"
  },
  "orig_nbformat": 4,
  "vscode": {
   "interpreter": {
    "hash": "3434ccafb52358849ff2ebf322ef4dad532b1af8a681ae7e07b02c2475e548f3"
   }
  }
 },
 "nbformat": 4,
 "nbformat_minor": 2
}
