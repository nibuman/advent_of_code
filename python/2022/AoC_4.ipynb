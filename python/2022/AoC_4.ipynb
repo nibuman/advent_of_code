{
 "cells": [
  {
   "cell_type": "code",
   "execution_count": 44,
   "metadata": {},
   "outputs": [
    {
     "data": {
      "text/plain": [
       "<_io.TextIOWrapper name='day4a_data' mode='r' encoding='UTF-8'>"
      ]
     },
     "execution_count": 44,
     "metadata": {},
     "output_type": "execute_result"
    }
   ],
   "source": [
    "with open('day4a_data', 'r') as f:\n",
    "    pairs = (f\n",
    "                .read()\n",
    "                .strip()\n",
    "                .split(\"\\n\")\n",
    "    )"
   ]
  },
  {
   "cell_type": "markdown",
   "metadata": {},
   "source": [
    "## Part 1\n",
    "\n",
    "answer = 528"
   ]
  },
  {
   "cell_type": "code",
   "execution_count": 42,
   "metadata": {},
   "outputs": [
    {
     "data": {
      "text/plain": [
       "528"
      ]
     },
     "execution_count": 42,
     "metadata": {},
     "output_type": "execute_result"
    }
   ],
   "source": [
    "def sections(section_range):\n",
    "    start, end = [int(x) for x in section_range.split(\"-\")]\n",
    "    return set(range(start, end + 1))\n",
    "\n",
    "def is_contained(section_pair):\n",
    "    largest = max(section_pair, key=len)\n",
    "    return largest == (section_pair[0] | section_pair[1])\n",
    "\n",
    "def range_generator(pairs):\n",
    "    for pair in pairs:\n",
    "        elf1, elf2 = pair.split(\",\")\n",
    "        yield is_contained((sections(elf1), sections(elf2)))\n",
    "\n",
    "fully_contained = range_generator(pairs)\n",
    "sum(fully_contained)"
   ]
  },
  {
   "cell_type": "markdown",
   "metadata": {},
   "source": [
    "## Part 2\n",
    "\n",
    "answer = 881"
   ]
  },
  {
   "cell_type": "code",
   "execution_count": 43,
   "metadata": {},
   "outputs": [
    {
     "data": {
      "text/plain": [
       "881"
      ]
     },
     "execution_count": 43,
     "metadata": {},
     "output_type": "execute_result"
    }
   ],
   "source": [
    "def is_overlapping(section_pair):\n",
    "    return (section_pair[0] & section_pair[1]) != set()\n",
    "\n",
    "def overlap_gen(pairs):\n",
    "    for pair in pairs:\n",
    "        elf1, elf2 = pair.split(\",\")\n",
    "        yield is_overlapping((sections(elf1), sections(elf2)))\n",
    "\n",
    "overlaps = overlap_gen(pairs)\n",
    "sum(overlaps)"
   ]
  }
 ],
 "metadata": {
  "kernelspec": {
   "display_name": "Python 3.10.6 64-bit",
   "language": "python",
   "name": "python3"
  },
  "language_info": {
   "codemirror_mode": {
    "name": "ipython",
    "version": 3
   },
   "file_extension": ".py",
   "mimetype": "text/x-python",
   "name": "python",
   "nbconvert_exporter": "python",
   "pygments_lexer": "ipython3",
   "version": "3.10.6"
  },
  "orig_nbformat": 4,
  "vscode": {
   "interpreter": {
    "hash": "916dbcbb3f70747c44a77c7bcd40155683ae19c65e1c03b4aa3499c5328201f1"
   }
  }
 },
 "nbformat": 4,
 "nbformat_minor": 2
}
