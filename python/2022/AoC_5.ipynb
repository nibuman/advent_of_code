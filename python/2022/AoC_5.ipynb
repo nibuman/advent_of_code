{
 "cells": [
  {
   "cell_type": "code",
   "execution_count": 59,
   "metadata": {},
   "outputs": [],
   "source": [
    "with open('day5a_data', 'r') as f:\n",
    "    stack_text = (f\n",
    "                .read()\n",
    "                .split(\"\\n\")\n",
    "                [:-1]\n",
    "    )\n",
    "    \n",
    "def initial_stack_data():\n",
    "    stacks = [[] for _ in range(9)]\n",
    "    for line in stack_text:\n",
    "        for idx in range(1,34,4):\n",
    "            if (char:=line[idx]) != \" \":\n",
    "                stacks[(idx-1)//4].insert(0, char)\n",
    "    return stacks"
   ]
  },
  {
   "cell_type": "code",
   "execution_count": 51,
   "metadata": {},
   "outputs": [],
   "source": [
    "with open('day5b_data', 'r') as f:\n",
    "    move_data = (f\n",
    "                .read()\n",
    "                .strip()\n",
    "                .split(\"\\n\")\n",
    "    )"
   ]
  },
  {
   "cell_type": "markdown",
   "metadata": {},
   "source": [
    "## Part 1\n",
    "answer = FZCMJCRHZ"
   ]
  },
  {
   "cell_type": "code",
   "execution_count": 52,
   "metadata": {},
   "outputs": [],
   "source": [
    "def get_top_row(stacks):\n",
    "    print(\"\".join([stack[-1] for stack in stacks]))"
   ]
  },
  {
   "cell_type": "code",
   "execution_count": 60,
   "metadata": {},
   "outputs": [
    {
     "name": "stdout",
     "output_type": "stream",
     "text": [
      "FZCMJCRHZ\n"
     ]
    }
   ],
   "source": [
    "stacks = initial_stack_data()\n",
    "for instruction in move_data:\n",
    "    _, num, _, from_stack, _, to_stack = instruction.split()\n",
    "    for _ in range(int(num)):\n",
    "        crate = stacks[int(from_stack)-1].pop()\n",
    "        stacks[int(to_stack)-1].append(crate)\n",
    "get_top_row(stacks)"
   ]
  },
  {
   "cell_type": "markdown",
   "metadata": {},
   "source": [
    "## Part 2 \n",
    "answer = JSDHQMZGF"
   ]
  },
  {
   "cell_type": "code",
   "execution_count": 57,
   "metadata": {},
   "outputs": [
    {
     "name": "stdout",
     "output_type": "stream",
     "text": [
      "JSDHQMZGF\n"
     ]
    }
   ],
   "source": [
    "stacks = initial_stack_data()\n",
    "for instruction in move_data:\n",
    "    _, num, _, from_stack, _, to_stack = instruction.split()\n",
    "    crates = []\n",
    "    for _ in range(int(num)):\n",
    "        crates.insert(0, stacks[int(from_stack)-1].pop())\n",
    "    stacks[int(to_stack)-1].extend(crates)\n",
    "get_top_row(stacks)"
   ]
  }
 ],
 "metadata": {
  "kernelspec": {
   "display_name": "Python 3.10.6 64-bit",
   "language": "python",
   "name": "python3"
  },
  "language_info": {
   "codemirror_mode": {
    "name": "ipython",
    "version": 3
   },
   "file_extension": ".py",
   "mimetype": "text/x-python",
   "name": "python",
   "nbconvert_exporter": "python",
   "pygments_lexer": "ipython3",
   "version": "3.10.6"
  },
  "orig_nbformat": 4,
  "vscode": {
   "interpreter": {
    "hash": "916dbcbb3f70747c44a77c7bcd40155683ae19c65e1c03b4aa3499c5328201f1"
   }
  }
 },
 "nbformat": 4,
 "nbformat_minor": 2
}
