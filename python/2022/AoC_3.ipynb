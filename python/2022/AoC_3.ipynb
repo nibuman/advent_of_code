{
 "cells": [
  {
   "cell_type": "code",
   "execution_count": 47,
   "metadata": {},
   "outputs": [],
   "source": [
    "import string\n",
    "\n",
    "priorities = {letter: priority for letter, priority in zip(string.ascii_letters, range(1,53))}\n",
    "\n",
    "with open('day3a_data', 'r') as f:\n",
    "    rucksacks = (f\n",
    "                .read()\n",
    "                .strip()\n",
    "                .split(\"\\n\")\n",
    "    )"
   ]
  },
  {
   "cell_type": "markdown",
   "metadata": {},
   "source": [
    "# Part 1"
   ]
  },
  {
   "cell_type": "code",
   "execution_count": 64,
   "metadata": {},
   "outputs": [
    {
     "data": {
      "text/plain": [
       "7716"
      ]
     },
     "execution_count": 64,
     "metadata": {},
     "output_type": "execute_result"
    }
   ],
   "source": [
    "total = 0\n",
    "for rucksack in rucksacks:\n",
    "    mid = len(rucksack) // 2\n",
    "    compartment1 = set(rucksack[:mid])\n",
    "    compartment2 = set(rucksack[mid:])\n",
    "    duplicate = (compartment1 & compartment2).pop()\n",
    "    total += priorities[duplicate]\n",
    "total"
   ]
  },
  {
   "cell_type": "markdown",
   "metadata": {},
   "source": [
    "Tidied up the code to remove the cumulative variable `total`"
   ]
  },
  {
   "cell_type": "code",
   "execution_count": 71,
   "metadata": {},
   "outputs": [
    {
     "data": {
      "text/plain": [
       "7716"
      ]
     },
     "execution_count": 71,
     "metadata": {},
     "output_type": "execute_result"
    }
   ],
   "source": [
    "def priority_points(rucksack):\n",
    "    mid = len(rucksack) // 2\n",
    "    duplicate = (set(rucksack[:mid]) & set(rucksack[mid:])).pop()\n",
    "    return priorities[duplicate]\n",
    "\n",
    "sum(priority_points(rucksack) for rucksack in rucksacks)"
   ]
  },
  {
   "cell_type": "code",
   "execution_count": null,
   "metadata": {},
   "outputs": [],
   "source": []
  },
  {
   "cell_type": "markdown",
   "metadata": {},
   "source": [
    "# Part 2\n",
    "Tried creating *groups* as *list* or *generator*.\n",
    "Works with both but generator gets consumed, so needs to be run before each one"
   ]
  },
  {
   "cell_type": "code",
   "execution_count": 75,
   "metadata": {},
   "outputs": [],
   "source": [
    "\n",
    "groups = ((set(r1),set(r2),set(r3)) for r1,r2,r3 in zip(rucksacks[::3], rucksacks[1::3], rucksacks[2::3]))\n"
   ]
  },
  {
   "cell_type": "markdown",
   "metadata": {},
   "source": [
    "## For loop version"
   ]
  },
  {
   "cell_type": "code",
   "execution_count": 76,
   "metadata": {},
   "outputs": [
    {
     "data": {
      "text/plain": [
       "2973"
      ]
     },
     "execution_count": 76,
     "metadata": {},
     "output_type": "execute_result"
    }
   ],
   "source": [
    "total = 0\n",
    "for group in groups:\n",
    "    badge = set.intersection(group[0], group[1], group[2]).pop()\n",
    "    total += priorities[badge]\n",
    "total"
   ]
  },
  {
   "cell_type": "markdown",
   "metadata": {},
   "source": [
    "## One line generator expression\n",
    "For some reason this is consistently slower than the for loop??   \n",
    "Remember to recreate the groups generator first..."
   ]
  },
  {
   "cell_type": "code",
   "execution_count": 69,
   "metadata": {},
   "outputs": [
    {
     "data": {
      "text/plain": [
       "0"
      ]
     },
     "execution_count": 69,
     "metadata": {},
     "output_type": "execute_result"
    }
   ],
   "source": [
    "sum(priorities[(group[0] & group[1] & group[2]).pop()] for group in groups)"
   ]
  }
 ],
 "metadata": {
  "kernelspec": {
   "display_name": "Python 3.10.6 64-bit",
   "language": "python",
   "name": "python3"
  },
  "language_info": {
   "codemirror_mode": {
    "name": "ipython",
    "version": 3
   },
   "file_extension": ".py",
   "mimetype": "text/x-python",
   "name": "python",
   "nbconvert_exporter": "python",
   "pygments_lexer": "ipython3",
   "version": "3.10.6"
  },
  "orig_nbformat": 4,
  "vscode": {
   "interpreter": {
    "hash": "916dbcbb3f70747c44a77c7bcd40155683ae19c65e1c03b4aa3499c5328201f1"
   }
  }
 },
 "nbformat": 4,
 "nbformat_minor": 2
}
