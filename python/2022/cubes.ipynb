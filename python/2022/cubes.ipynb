{
 "cells": [
  {
   "cell_type": "code",
   "execution_count": 8,
   "metadata": {},
   "outputs": [
    {
     "name": "stdout",
     "output_type": "stream",
     "text": [
      "[1, 125, 27] 153\n",
      "[27, 343, 0] 370\n",
      "[27, 343, 1] 371\n",
      "[64, 0, 343] 407\n"
     ]
    }
   ],
   "source": [
    "for num in range(100, 999):\n",
    "    digits = [int(digit) for digit in str(num)]\n",
    "    if sum(cubes:=[digit**3 for digit in digits]) == num:\n",
    "        print(cubes, num)\n",
    "\n",
    "    \n",
    "    \n",
    "  "
   ]
  }
 ],
 "metadata": {
  "kernelspec": {
   "display_name": "Python 3.11.0 ('newvenv': venv)",
   "language": "python",
   "name": "python3"
  },
  "language_info": {
   "codemirror_mode": {
    "name": "ipython",
    "version": 3
   },
   "file_extension": ".py",
   "mimetype": "text/x-python",
   "name": "python",
   "nbconvert_exporter": "python",
   "pygments_lexer": "ipython3",
   "version": "3.11.0"
  },
  "orig_nbformat": 4,
  "vscode": {
   "interpreter": {
    "hash": "37bc2026d2a9a95d3021e8df05bbcf3620d1eff32e06a2d16f699370edccda46"
   }
  }
 },
 "nbformat": 4,
 "nbformat_minor": 2
}
